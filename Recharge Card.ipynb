{
 "cells": [
  {
   "cell_type": "markdown",
   "metadata": {},
   "source": [
    "## DATASET\n",
    "importing the neccessary libraries and\n",
    "reading the dataset to a pandas dataframe "
   ]
  },
  {
   "cell_type": "code",
   "execution_count": 32,
   "metadata": {},
   "outputs": [
    {
     "name": "stdout",
     "output_type": "stream",
     "text": [
      "    amount                 serial                pin  network   pin1   pin2  \\\n",
      "0      100        680808605904017    881400534676230      glo  88140   5346   \n",
      "1      100        780701004928996    118373330935056      glo  11837  33309   \n",
      "2      100        780701004928999    118373186445630      glo  11837  31864   \n",
      "3      100        780701005054210    118386398414930      glo  11838  63984   \n",
      "4      100        780701303616893    150921276010823      glo  15092  12760   \n",
      "5      100        780701005002489    118381320325769      glo  11838  13203   \n",
      "6      100        780701005323925    118412934638017      glo  11841  29346   \n",
      "7      100        780701004634033    118344180476326      glo  11834  41804   \n",
      "8      200        490609014659535    907892806242643      glo  90789  28062   \n",
      "9      100              883397510         1506166242      mtn  15061  66242   \n",
      "10     100             7071826979  56587275767647829      mtn   5658   7275   \n",
      "11     100             7059560842  54991327602979462      mtn   5499   1327   \n",
      "12     100             6477343505  63536699075705891      mtn   6353   6699   \n",
      "13     200             7182731329  89461981821464651      mtn   8946   1981   \n",
      "14     200             7333212387  23600529581974629      mtn   2360    529   \n",
      "15     200             7309492173  13843588110185828      mtn   1384   3588   \n",
      "16     200             6085632175  51736506137098511      mtn   5173   6506   \n",
      "17     200             7053161375  48080991822865630      mtn   4808    991   \n",
      "18     500             6467828168  78092346471414371      mtn   7809   2346   \n",
      "19     500             6391459393  32038770233652917      mtn   3203   8770   \n",
      "20     100   20340403021336845605   5041050668279381   airtel   5041    506   \n",
      "21     100   20342588478471004909   1640008117861274   airtel   1640     81   \n",
      "22     100   20317597704218839384    302001525852079   airtel    302     15   \n",
      "23     100   20317597704218839377    632928573723606   airtel    632   9285   \n",
      "24     100   24054708846357252333   1941090915199353   airtel   1941    909   \n",
      "25     100   20337406491284415156   5570181766487693   airtel   5570   1817   \n",
      "26     100   20342588738471009935   1984953612750892   airtel   1984   9536   \n",
      "27     200   24074534018368555775   1666901626929791   airtel   1666   9016   \n",
      "28     200   24074534018368555776   1842185867115738   airtel   1842   1858   \n",
      "\n",
      "     pin3   pin4  \n",
      "0   76230      0  \n",
      "1   35056      0  \n",
      "2   45630      0  \n",
      "3   14930      0  \n",
      "4   10823      0  \n",
      "5   25769      0  \n",
      "6   38017      0  \n",
      "7   76326      0  \n",
      "8   42643      0  \n",
      "9       0      0  \n",
      "10   7676  47829  \n",
      "11   6029  79462  \n",
      "12    757   5891  \n",
      "13   8214  64651  \n",
      "14   5819  74629  \n",
      "15   1101  85828  \n",
      "16   1370  98511  \n",
      "17   8228  65630  \n",
      "18   4714  14371  \n",
      "19   2336  52917  \n",
      "20   6827   9381  \n",
      "21   1786   1274  \n",
      "22   2585   2079  \n",
      "23   7372   3606  \n",
      "24   1519   9353  \n",
      "25   6648   7693  \n",
      "26   1275    892  \n",
      "27   2692   9791  \n",
      "28   6711   5738  \n"
     ]
    }
   ],
   "source": [
    "import pandas as pd\n",
    "import numpy as np\n",
    "data=pd.read_csv(r'C:\\Users\\ANONYMOUS\\Documents\\rc\\rc.txt')\n",
    "print(data)"
   ]
  },
  {
   "cell_type": "code",
   "execution_count": 33,
   "metadata": {},
   "outputs": [],
   "source": [
    "X=rc[['pin1', 'pin2', 'pin3', 'pin4']]\n",
    "Y=rc['network']"
   ]
  },
  {
   "cell_type": "code",
   "execution_count": 34,
   "metadata": {},
   "outputs": [],
   "source": [
    "from sklearn.model_selection import train_test_split\n",
    "x_train, x_test, y_train, y_test=train_test_split(X,Y, test_size=0.3)"
   ]
  },
  {
   "cell_type": "markdown",
   "metadata": {},
   "source": [
    "## Implementing Decision Tree"
   ]
  },
  {
   "cell_type": "code",
   "execution_count": 39,
   "metadata": {},
   "outputs": [],
   "source": [
    "from sklearn.tree import DecisionTreeClassifier\n",
    "dtc=DecisionTreeClassifier()"
   ]
  },
  {
   "cell_type": "code",
   "execution_count": 41,
   "metadata": {},
   "outputs": [
    {
     "data": {
      "text/plain": [
       "DecisionTreeClassifier()"
      ]
     },
     "execution_count": 41,
     "metadata": {},
     "output_type": "execute_result"
    }
   ],
   "source": [
    "dtc.fit(x_train,y_train)"
   ]
  },
  {
   "cell_type": "code",
   "execution_count": 51,
   "metadata": {},
   "outputs": [
    {
     "name": "stdout",
     "output_type": "stream",
     "text": [
      "['airtel' 'glo' 'mtn' 'glo' 'airtel' 'glo'] \n",
      " ['airtel' 'glo' 'airtel' 'mtn' 'airtel' 'glo']\n",
      "[[2 0 0]\n",
      " [0 2 1]\n",
      " [1 0 0]]\n",
      "accuracy=  66.66666666666666\n"
     ]
    }
   ],
   "source": [
    "dtc_pred=dtc.predict(x_test)\n",
    "print(y_test.values, '\\n', dtc_pred)\n",
    "from sklearn.metrics import confusion_matrix, accuracy_score\n",
    "print(confusion_matrix(y_test.values, dtc_pred))\n",
    "print('accuracy= ',accuracy_score(y_test.values, dtc_pred)*100)"
   ]
  },
  {
   "cell_type": "markdown",
   "metadata": {},
   "source": [
    "## Implementing K Nearest Neighbor\n",
    "using a nearest neighbor of 1"
   ]
  },
  {
   "cell_type": "code",
   "execution_count": 53,
   "metadata": {},
   "outputs": [
    {
     "name": "stdout",
     "output_type": "stream",
     "text": [
      "['airtel' 'glo' 'mtn' 'glo' 'airtel' 'glo'] \n",
      " ['airtel' 'glo' 'mtn' 'glo' 'airtel' 'glo']\n",
      "[[2 0 0]\n",
      " [0 3 0]\n",
      " [0 0 1]]\n",
      "accuracy=  100.0\n"
     ]
    }
   ],
   "source": [
    "from sklearn.neighbors import KNeighborsClassifier\n",
    "knn=KNeighborsClassifier(n_neighbors=1)\n",
    "knn.fit(x_train, y_train)\n",
    "knn_pred=knn.predict(x_test)\n",
    "print(y_test.values, '\\n', knn_pred)\n",
    "print(confusion_matrix(y_test.values, knn_pred))\n",
    "print('accuracy= ',accuracy_score(y_test.values, knn_pred)*100)"
   ]
  },
  {
   "cell_type": "markdown",
   "metadata": {},
   "source": [
    "## Implementing Random Forest Classifier"
   ]
  },
  {
   "cell_type": "code",
   "execution_count": 54,
   "metadata": {},
   "outputs": [
    {
     "name": "stdout",
     "output_type": "stream",
     "text": [
      "['airtel' 'glo' 'mtn' 'glo' 'airtel' 'glo'] \n",
      " ['airtel' 'glo' 'airtel' 'glo' 'airtel' 'glo']\n",
      "[[2 0 0]\n",
      " [0 3 0]\n",
      " [1 0 0]]\n",
      "accuracy=  83.33333333333334\n"
     ]
    }
   ],
   "source": [
    "from sklearn.ensemble import RandomForestClassifier\n",
    "rfc=RandomForestClassifier()\n",
    "rfc.fit(x_train,y_train)\n",
    "rfc_pred=rfc.predict(x_test)\n",
    "print(y_test.values, '\\n', rfc_pred)\n",
    "print(confusion_matrix(y_test.values, rfc_pred))\n",
    "print('accuracy= ',accuracy_score(y_test.values, rfc_pred)*100)"
   ]
  },
  {
   "cell_type": "code",
   "execution_count": null,
   "metadata": {},
   "outputs": [],
   "source": []
  },
  {
   "cell_type": "code",
   "execution_count": null,
   "metadata": {},
   "outputs": [],
   "source": []
  },
  {
   "cell_type": "code",
   "execution_count": null,
   "metadata": {},
   "outputs": [],
   "source": []
  }
 ],
 "metadata": {
  "kernelspec": {
   "display_name": "Python 3",
   "language": "python",
   "name": "python3"
  },
  "language_info": {
   "codemirror_mode": {
    "name": "ipython",
    "version": 3
   },
   "file_extension": ".py",
   "mimetype": "text/x-python",
   "name": "python",
   "nbconvert_exporter": "python",
   "pygments_lexer": "ipython3",
   "version": "3.8.3"
  }
 },
 "nbformat": 4,
 "nbformat_minor": 4
}
